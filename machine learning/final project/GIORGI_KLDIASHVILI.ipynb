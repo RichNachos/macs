{
 "cells": [
  {
   "cell_type": "code",
   "execution_count": 1,
   "id": "f43490e7",
   "metadata": {
    "execution": {
     "iopub.execute_input": "2024-08-16T12:55:44.608657Z",
     "iopub.status.busy": "2024-08-16T12:55:44.607833Z",
     "iopub.status.idle": "2024-08-16T12:56:01.130894Z",
     "shell.execute_reply": "2024-08-16T12:56:01.129988Z"
    },
    "papermill": {
     "duration": 16.533829,
     "end_time": "2024-08-16T12:56:01.133678",
     "exception": false,
     "start_time": "2024-08-16T12:55:44.599849",
     "status": "completed"
    },
    "tags": []
   },
   "outputs": [
    {
     "name": "stdout",
     "output_type": "stream",
     "text": [
      "Requirement already satisfied: gymnasium[mujoco] in /opt/conda/lib/python3.10/site-packages (0.29.0)\r\n",
      "Requirement already satisfied: numpy>=1.21.0 in /opt/conda/lib/python3.10/site-packages (from gymnasium[mujoco]) (1.26.4)\r\n",
      "Requirement already satisfied: cloudpickle>=1.2.0 in /opt/conda/lib/python3.10/site-packages (from gymnasium[mujoco]) (2.2.1)\r\n",
      "Requirement already satisfied: typing-extensions>=4.3.0 in /opt/conda/lib/python3.10/site-packages (from gymnasium[mujoco]) (4.9.0)\r\n",
      "Requirement already satisfied: farama-notifications>=0.0.1 in /opt/conda/lib/python3.10/site-packages (from gymnasium[mujoco]) (0.0.4)\r\n",
      "Collecting mujoco>=2.3.3 (from gymnasium[mujoco])\r\n",
      "  Downloading mujoco-3.2.2-cp310-cp310-manylinux_2_17_x86_64.manylinux2014_x86_64.whl.metadata (44 kB)\r\n",
      "\u001b[2K     \u001b[90m━━━━━━━━━━━━━━━━━━━━━━━━━━━━━━━━━━━━━━━━\u001b[0m \u001b[32m44.3/44.3 kB\u001b[0m \u001b[31m1.7 MB/s\u001b[0m eta \u001b[36m0:00:00\u001b[0m\r\n",
      "\u001b[?25hRequirement already satisfied: imageio>=2.14.1 in /opt/conda/lib/python3.10/site-packages (from gymnasium[mujoco]) (2.33.1)\r\n",
      "Requirement already satisfied: pillow>=8.3.2 in /opt/conda/lib/python3.10/site-packages (from imageio>=2.14.1->gymnasium[mujoco]) (9.5.0)\r\n",
      "Requirement already satisfied: absl-py in /opt/conda/lib/python3.10/site-packages (from mujoco>=2.3.3->gymnasium[mujoco]) (1.4.0)\r\n",
      "Requirement already satisfied: etils[epath] in /opt/conda/lib/python3.10/site-packages (from mujoco>=2.3.3->gymnasium[mujoco]) (1.6.0)\r\n",
      "Collecting glfw (from mujoco>=2.3.3->gymnasium[mujoco])\r\n",
      "  Downloading glfw-2.7.0-py2.py27.py3.py30.py31.py32.py33.py34.py35.py36.py37.py38-none-manylinux2014_x86_64.whl.metadata (5.4 kB)\r\n",
      "Collecting pyopengl (from mujoco>=2.3.3->gymnasium[mujoco])\r\n",
      "  Downloading PyOpenGL-3.1.7-py3-none-any.whl.metadata (3.2 kB)\r\n",
      "Requirement already satisfied: fsspec in /opt/conda/lib/python3.10/site-packages (from etils[epath]->mujoco>=2.3.3->gymnasium[mujoco]) (2024.5.0)\r\n",
      "Requirement already satisfied: importlib_resources in /opt/conda/lib/python3.10/site-packages (from etils[epath]->mujoco>=2.3.3->gymnasium[mujoco]) (6.1.1)\r\n",
      "Requirement already satisfied: zipp in /opt/conda/lib/python3.10/site-packages (from etils[epath]->mujoco>=2.3.3->gymnasium[mujoco]) (3.17.0)\r\n",
      "Downloading mujoco-3.2.2-cp310-cp310-manylinux_2_17_x86_64.manylinux2014_x86_64.whl (6.0 MB)\r\n",
      "\u001b[2K   \u001b[90m━━━━━━━━━━━━━━━━━━━━━━━━━━━━━━━━━━━━━━━━\u001b[0m \u001b[32m6.0/6.0 MB\u001b[0m \u001b[31m63.1 MB/s\u001b[0m eta \u001b[36m0:00:00\u001b[0m\r\n",
      "\u001b[?25hDownloading glfw-2.7.0-py2.py27.py3.py30.py31.py32.py33.py34.py35.py36.py37.py38-none-manylinux2014_x86_64.whl (211 kB)\r\n",
      "\u001b[2K   \u001b[90m━━━━━━━━━━━━━━━━━━━━━━━━━━━━━━━━━━━━━━━━\u001b[0m \u001b[32m211.8/211.8 kB\u001b[0m \u001b[31m12.6 MB/s\u001b[0m eta \u001b[36m0:00:00\u001b[0m\r\n",
      "\u001b[?25hDownloading PyOpenGL-3.1.7-py3-none-any.whl (2.4 MB)\r\n",
      "\u001b[2K   \u001b[90m━━━━━━━━━━━━━━━━━━━━━━━━━━━━━━━━━━━━━━━━\u001b[0m \u001b[32m2.4/2.4 MB\u001b[0m \u001b[31m61.3 MB/s\u001b[0m eta \u001b[36m0:00:00\u001b[0m\r\n",
      "\u001b[?25hInstalling collected packages: pyopengl, glfw, mujoco\r\n",
      "Successfully installed glfw-2.7.0 mujoco-3.2.2 pyopengl-3.1.7\r\n"
     ]
    }
   ],
   "source": [
    "!pip install gymnasium[mujoco]"
   ]
  },
  {
   "cell_type": "code",
   "execution_count": 2,
   "id": "fc7e9834",
   "metadata": {
    "execution": {
     "iopub.execute_input": "2024-08-16T12:56:01.150488Z",
     "iopub.status.busy": "2024-08-16T12:56:01.150189Z",
     "iopub.status.idle": "2024-08-16T12:56:05.884130Z",
     "shell.execute_reply": "2024-08-16T12:56:05.883341Z"
    },
    "papermill": {
     "duration": 4.745062,
     "end_time": "2024-08-16T12:56:05.886425",
     "exception": false,
     "start_time": "2024-08-16T12:56:01.141363",
     "status": "completed"
    },
    "tags": []
   },
   "outputs": [],
   "source": [
    "import torch\n",
    "import torch.nn as nn\n",
    "import torch.nn.functional as F\n",
    "import torch.optim as optim\n",
    "import pandas as pd\n",
    "import gymnasium as gym\n",
    "import matplotlib.pyplot as plt"
   ]
  },
  {
   "cell_type": "markdown",
   "id": "917f6359",
   "metadata": {
    "papermill": {
     "duration": 0.007232,
     "end_time": "2024-08-16T12:56:05.901196",
     "exception": false,
     "start_time": "2024-08-16T12:56:05.893964",
     "status": "completed"
    },
    "tags": []
   },
   "source": [
    "# ჰიპერპარამეტრები\n",
    "ძალიან, ძალიან დიდი ხანი ვტუნავდი ჰიპერპარამეტრებს რომ კარგი მოდელი გამოსულიყო ; (\n",
    "\n",
    "ალბათ 200ჯერ გავუშვებდი ამ ნოუთბუქს ამ ტიუნინგის პროცესში...\n",
    "\n",
    "* **STEPS**: მაქსიმალური რაოდენობის სვლა თითო ეპიზოდში\n",
    "* **EPISODES**: მაქსიმალური რაოდენობა ეპიზოდების მთლიანად დასატრენინგებლად\n",
    "* **DISCOUNT_FACTOR**: დისქაუნთი, ანუ რამდენად აფასებს მომავლის რევარდს მოდელი\n",
    "* **GAE_LAMBDA**: GAE ალგორითმის სპეციფიკური ჰიპერპარამეტრი\n",
    "* **CLIPPING**: PPO ალგორითმის სპეციფიკური ჰიპერპარამეტრი\n",
    "* **LEARNING_RATE**: საწყისი შესწავლის სიჩქარე\n",
    "* **UPDATE_FREQUENCY**: რამდენჯერ დააფდეითდეს policy თითო ტრენინგის სესიაში.\n",
    "* **LEAKY_RELU**: LeakyReLu-ს პარამეტრი,https://pytorch.org/docs/stable/_images/LeakyReLU.png\n",
    "* **EARLY_STOP_THRESHOLD**: რა რევარდზე შეგვიძლია ჩავთვალოთ რომ საკმარისია მოდელის პერფორმანსი\n",
    "* **EARLY_STOP_PATIENCE**: რამდენჯერ მოვიცადოთ ზედა ჰიპერპარამეტრზე გადაცილება\n",
    "* **PROBLEM**: რომელ მუჯოკოს პრობლემაზე ვაკეთებთ მოდელს."
   ]
  },
  {
   "cell_type": "code",
   "execution_count": 3,
   "id": "51a84224",
   "metadata": {
    "execution": {
     "iopub.execute_input": "2024-08-16T12:56:05.916970Z",
     "iopub.status.busy": "2024-08-16T12:56:05.916532Z",
     "iopub.status.idle": "2024-08-16T12:56:05.979258Z",
     "shell.execute_reply": "2024-08-16T12:56:05.978282Z"
    },
    "papermill": {
     "duration": 0.072829,
     "end_time": "2024-08-16T12:56:05.981179",
     "exception": false,
     "start_time": "2024-08-16T12:56:05.908350",
     "status": "completed"
    },
    "tags": []
   },
   "outputs": [
    {
     "name": "stdout",
     "output_type": "stream",
     "text": [
      "True\n",
      "12.1\n",
      "Using device: cuda\n"
     ]
    }
   ],
   "source": [
    "STEPS = 1000\n",
    "EPISODES = 30000\n",
    "DISCOUNT_FACTOR = 0.95\n",
    "GAE_LAMBDA = 0.95\n",
    "CLIPPING = 0.10\n",
    "LEARNING_RATE = 0.001\n",
    "UPDATE_FREQUENCY = 2\n",
    "LEAKY_RELU = 0.05\n",
    "LOG = 100\n",
    "EARLY_STOP_THRESHOLD = 1000.0\n",
    "EARLY_STOP_PATIENCE = 5\n",
    "PROBLEM = 'InvertedDoublePendulum-v4'\n",
    "\n",
    "print(torch.cuda.is_available())\n",
    "print(torch.version.cuda)\n",
    "device = torch.device(\"cuda\" if torch.cuda.is_available() else \"cpu\")\n",
    "print(f\"Using device: {device}\")"
   ]
  },
  {
   "cell_type": "markdown",
   "id": "5869ef2a",
   "metadata": {
    "papermill": {
     "duration": 0.006944,
     "end_time": "2024-08-16T12:56:05.995508",
     "exception": false,
     "start_time": "2024-08-16T12:56:05.988564",
     "status": "completed"
    },
    "tags": []
   },
   "source": [
    "# მოდელის ტრენინგის ალგორითმების არჩევა\n",
    "\n",
    "მოდელის, სწავლის ალგორითმების და ჰიპერპარამეტრების შერჩევისას/გატესტვისას შევამჩნიე რომ ძალიან მნიშვნელოვანი იყო სტაბილურობა. ხშირად იყო შემთხვევა რომ ძალიან პატარა ცვლილებამ გამოიწვია არასტაბილურობა და რაღაც პერიოდის მერე (ტრენინგისას) გაჭედილი იყო რაღაც ნაწილას და ვეღარ აუმჯობესებდა რევარდს. ამიტომ გადავწყვიტე რომ ისეთი გადაწყვეტილებები მიმეღო რომელიც სტაბილურობას გაუმჯობესებდა და ცუდი Policy ცვლილებისას შეძლებდა უკან დახევას და სხვა გადაწყვეტილებისკენ წასვლას.\n",
    "\n",
    "# PPO\n",
    "სწავლის ალგორითმის არჩევისას, პროქსიმალური პოლიტიკის ოპტიმიზაცია (PPO) კარგი არჩევანია. PPO ეხმარება ტრენინგი უფრო სტაბილური გახდეს სხვა მეთოდებთან შედარებით, რითიც თავიდან იცილებს დიდ განახლებებს, რამაც შეიძლება გამოიწვიოს პრობლემები. ამ ხრიკს ეწოდება Clipping. ამ ფეიფერში არის გარჩეული ეს ტაქტიკა: https://arxiv.org/pdf/1707.06347.\n",
    "\n",
    "TRPO-სთან შედარებით ბევრად უფრო მარტივი დასაიმპლემენტირებელია ეს ალგორითმი და შედარებით უფრო სწრაფიც.\n",
    "\n",
    "ჯერჯერობით გადავწყვიტე რომ ამ ალგორითმით გავაგრძელო.\n",
    "\n",
    "\n",
    "# GAE\n",
    "განზოგადებული უპირატესობის შეფასება (GAE) არის ტექნიკა, რომელიც გამოიყენება გაძლიერებული სწავლის სტაბილურობისა და ეფექტურობის გასაუმჯობესებლად. ეს ხელს უწყობს სავარაუდო უპირატესობების ვარიაციის შემცირებას, ხოლო bias-ის დაბალ შენარჩუნებას. ეს კეთდება უპირატესობის ფუნქციის სხვადასხვა შეფასების კომბინაციით, უფრო საიმედო შეფასების მისაღებად.\n",
    "\n",
    "უფრო მარტივად რომ ავხსნა, GAE აბალანსებს ორ რამეს, მოკლე ვადიან მოგებას და შორ ვადიან მოგებას ერთმანეთთან. ამით არც ისეთ გადაწყვეტილებებს მიიღებს რაც შეიძლება ზედმეტად Greedy და მოკლევადიანი გამოვიდეს და არც ზედმეტად შორს იყურება რომ დააიგნოროს ახლო მომავალი. ამისთვისაც ეს სტატია ვნახე თავიდან გამოკვლევისას: https://arxiv.org/pdf/1506.02438"
   ]
  },
  {
   "cell_type": "markdown",
   "id": "18900e2a",
   "metadata": {
    "papermill": {
     "duration": 0.007215,
     "end_time": "2024-08-16T12:56:06.009832",
     "exception": false,
     "start_time": "2024-08-16T12:56:06.002617",
     "status": "completed"
    },
    "tags": []
   },
   "source": [
    "# მოდელის არქიტექტურა - აქტორ-კრიტიკი\n",
    "\n",
    "აქტორ-კიტიკი არქიტექტურა საკმაოდ პოპულარული არჩევანია მანქანურ სწავლებაში რადგანაც მას შეუძლია ერთდროულად ისწავლოს გადაწყვეტილებების მიღება და შეფასება. აქტორის ქსელი იღებს გადაწყვეტილებებს, ხოლო კრიტიკის ქსელი ამ მიღებულ გადაწყვეტილებებს აფასებს.\n",
    "\n",
    "ასევე, ესეთი არქიტექტურის მოდელები სტაბილურები არიან რადგანაც ნაკლები ვარიაცია აქვთ და goto არქიტექტურა არის ასეთი აგენტების სწავლებისთვის\n",
    "\n",
    "იმპლემენტაცია ასეთი მაქვს:\n",
    "\n",
    "1. აქტორის ნეირონული ქსელი: აბრუნებს გადაწყვეტილებების დისტრიბუციიდან საშუალო მნიშვნელობას.\n",
    "2. კრიტიკს ნეირონული ქსელი: აბრუნებს ახლა რა state-შიც იმყოფება მაგის სავარაუდო შეფასებას.\n",
    "\n",
    "ეს ორივე კომპონენტი feedforward neural network-ივით იქნება გადაბმული"
   ]
  },
  {
   "cell_type": "code",
   "execution_count": 4,
   "id": "8bee3b63",
   "metadata": {
    "execution": {
     "iopub.execute_input": "2024-08-16T12:56:06.025992Z",
     "iopub.status.busy": "2024-08-16T12:56:06.025631Z",
     "iopub.status.idle": "2024-08-16T12:56:06.038679Z",
     "shell.execute_reply": "2024-08-16T12:56:06.037863Z"
    },
    "papermill": {
     "duration": 0.023485,
     "end_time": "2024-08-16T12:56:06.040573",
     "exception": false,
     "start_time": "2024-08-16T12:56:06.017088",
     "status": "completed"
    },
    "tags": []
   },
   "outputs": [],
   "source": [
    "class ActorCriticPolicy(nn.Module):\n",
    "    def __init__(self, input_dim, action_dim):\n",
    "        super(ActorCriticPolicy, self).__init__()\n",
    "        self.actor = nn.Sequential(\n",
    "            nn.Linear(input_dim, 100),\n",
    "            nn.LeakyReLU(LEAKY_RELU),\n",
    "            nn.Linear(100, 100),\n",
    "            nn.LeakyReLU(LEAKY_RELU),\n",
    "            nn.Linear(100, action_dim)\n",
    "        )\n",
    "        self.critic = nn.Sequential(\n",
    "            nn.Linear(input_dim, 100),\n",
    "            nn.LeakyReLU(LEAKY_RELU),\n",
    "            nn.Linear(100, 100),\n",
    "            nn.LeakyReLU(LEAKY_RELU),\n",
    "            nn.Linear(100, 1)\n",
    "        )\n",
    "        self.init_weights(self.actor)\n",
    "        self.init_weights(self.critic)\n",
    "        \n",
    "        self.log_std = nn.Parameter(torch.zeros(action_dim))\n",
    "\n",
    "    \n",
    "    def init_weights(self, network):\n",
    "        for layer in network:\n",
    "            if isinstance(layer, nn.Linear):\n",
    "                nn.init.xavier_uniform_(layer.weight)\n",
    "\n",
    "    def forward(self, x):\n",
    "        action_mean = self.actor(x)\n",
    "        action_std = self.log_std.exp().expand_as(action_mean)\n",
    "        value = self.critic(x)\n",
    "        return action_mean, action_std, value\n",
    "\n",
    "### არ გაამართლა ამ მოდელმა\n",
    "class RNNPolicy(nn.Module):\n",
    "    def __init__(self, input_dim, action_dim, hidden_dim=128):\n",
    "        super(RNNPolicy, self).__init__()\n",
    "        self.hidden_dim = hidden_dim\n",
    "        self.lstm = nn.LSTM(input_dim, hidden_dim, batch_first=True)\n",
    "        self.fc = nn.Linear(hidden_dim, action_dim)\n",
    "        \n",
    "        self.log_std = nn.Parameter(torch.zeros(action_dim))\n",
    "\n",
    "        self.critic = nn.Linear(hidden_dim, 1)\n",
    "\n",
    "    def init_hidden(self, batch_size):\n",
    "        return (torch.zeros(1, batch_size, self.hidden_dim).to(device),\n",
    "                torch.zeros(1, batch_size, self.hidden_dim).to(device))\n",
    "\n",
    "    def forward(self, x, hidden_state):\n",
    "        lstm_out, hidden_state = self.lstm(x, hidden_state)\n",
    "        last_out = lstm_out[:, -1, :]\n",
    "        action_mean = self.fc(last_out)\n",
    "        value = self.critic(last_out)\n",
    "        return action_mean, self.log_std, value, hidden_state\n",
    "\n"
   ]
  },
  {
   "cell_type": "markdown",
   "id": "22fda3fc",
   "metadata": {
    "papermill": {
     "duration": 0.00696,
     "end_time": "2024-08-16T12:56:06.054821",
     "exception": false,
     "start_time": "2024-08-16T12:56:06.047861",
     "status": "completed"
    },
    "tags": []
   },
   "source": [
    "# მოდელის არქიტექტურის აღწერა\n",
    "\n",
    "თითო ქსელისთვის ვიყენებ ორ hidden layerს. 100 ნეირონით თითო ლეიერს. სრულიად წრფივი რომ არ იყოს ვიყენებ ReLu-ს ალტერნატივას, LeakyReLu-ს.\n",
    "\n",
    "ბევრი სხვადასხვა რაოდენობა და არქიტექტურები გამოვიყენე აქ საკმაოდ. RNN-იც ვცადე და არ გაამართლა, შეიძლება უბრალოდ კარგად ვერ ავაწყე. რაც შეეხება უშუალოდ 100 ნეირონი რატომ ავირჩიე, ბევრი ტიუნინგის შემდეგ ამ რიცხვებზე გავჩერდი. შევამჩნიე რომ რაც უფრო დიდი capacity ანუ ნეირონები აქვს ქსელს, მით უფრო რთულად და ნელა მიდის მისი სწავლება, ბევრად უფრო მეტი დრო სჭირდება რომ ისწავლოს, ლოგიკურიც არის. ზედმეტად პატარას რომ ვიღებდი უბრალოდ რაღაც რევარდს აღარ სცდებოდა. ამიტომ რაღაც ბალანსი უნდა მეპოვა.\n",
    "\n"
   ]
  },
  {
   "cell_type": "markdown",
   "id": "87d4911f",
   "metadata": {
    "papermill": {
     "duration": 0.007528,
     "end_time": "2024-08-16T12:56:06.069509",
     "exception": false,
     "start_time": "2024-08-16T12:56:06.061981",
     "status": "completed"
    },
    "tags": []
   },
   "source": [
    "# GAE-ს კოდი\n",
    "\n",
    "აქ ასევე სხვა ალგორითმებიც გავტესტე, მაგრამ გამოცდილებიდან GAE ყველაზე მეტად გამოდგა."
   ]
  },
  {
   "cell_type": "code",
   "execution_count": 5,
   "id": "b8702234",
   "metadata": {
    "execution": {
     "iopub.execute_input": "2024-08-16T12:56:06.087414Z",
     "iopub.status.busy": "2024-08-16T12:56:06.087111Z",
     "iopub.status.idle": "2024-08-16T12:56:06.096470Z",
     "shell.execute_reply": "2024-08-16T12:56:06.095756Z"
    },
    "papermill": {
     "duration": 0.020158,
     "end_time": "2024-08-16T12:56:06.098364",
     "exception": false,
     "start_time": "2024-08-16T12:56:06.078206",
     "status": "completed"
    },
    "tags": []
   },
   "outputs": [],
   "source": [
    "def gae(next_value, rewards, masks, values, gamma=DISCOUNT_FACTOR, tau=GAE_LAMBDA):\n",
    "    values = values + [next_value]\n",
    "    _gae = 0\n",
    "    advantages = []\n",
    "    for i in reversed(range(len(rewards))):\n",
    "        delta = rewards[i] + gamma * values[i + 1] * masks[i] - values[i]\n",
    "        _gae = delta + gamma * tau * masks[i] * _gae\n",
    "        advantages.insert(0, _gae + values[i])\n",
    "    return advantages\n",
    "\n",
    "def td_lambda(next_value, rewards, masks, values, gamma=DISCOUNT_FACTOR, lambda_=GAE_LAMBDA):\n",
    "    td_targets = []\n",
    "    last_td_target = next_value\n",
    "    \n",
    "    for i in reversed(range(len(rewards))):\n",
    "        td_target = rewards[i] + gamma * last_td_target * masks[i]\n",
    "        td_targets.insert(0, td_target)\n",
    "        last_td_target = td_target\n",
    "        \n",
    "    return td_targets\n",
    "\n",
    "def n_step_returns(next_value, rewards, masks, values, gamma=DISCOUNT_FACTOR, n=5):\n",
    "    advantages = []\n",
    "    for t in range(len(rewards)):\n",
    "        R = next_value\n",
    "        for k in range(n):\n",
    "            if t + k < len(rewards):\n",
    "                R += (gamma ** k) * rewards[t + k]\n",
    "            else:\n",
    "                break\n",
    "        advantages.append(R)\n",
    "    return advantages"
   ]
  },
  {
   "cell_type": "markdown",
   "id": "31b77346",
   "metadata": {
    "papermill": {
     "duration": 0.007132,
     "end_time": "2024-08-16T12:56:06.113527",
     "exception": false,
     "start_time": "2024-08-16T12:56:06.106395",
     "status": "completed"
    },
    "tags": []
   },
   "source": [
    "# PPO-ს კოდი"
   ]
  },
  {
   "cell_type": "code",
   "execution_count": 6,
   "id": "f6e5fab5",
   "metadata": {
    "execution": {
     "iopub.execute_input": "2024-08-16T12:56:06.129906Z",
     "iopub.status.busy": "2024-08-16T12:56:06.129309Z",
     "iopub.status.idle": "2024-08-16T12:56:06.136777Z",
     "shell.execute_reply": "2024-08-16T12:56:06.135958Z"
    },
    "papermill": {
     "duration": 0.017694,
     "end_time": "2024-08-16T12:56:06.138672",
     "exception": false,
     "start_time": "2024-08-16T12:56:06.120978",
     "status": "completed"
    },
    "tags": []
   },
   "outputs": [],
   "source": [
    "def ppo(agent, optimizer, previous_log_probs, batch_states, batch_actions, target_returns, advantage_estimates, clipping=CLIPPING, epochs=UPDATE_FREQUENCY):\n",
    "    for _ in range(epochs):\n",
    "        means, stds, value_estimates = agent(batch_states)\n",
    "        distribution = torch.distributions.Normal(means, stds)\n",
    "        current_log_probs = distribution.log_prob(batch_actions).sum(dim=-1)\n",
    "        policy_entropy = distribution.entropy().sum(dim=-1).mean()\n",
    "\n",
    "        prob_ratio = (current_log_probs - previous_log_probs).exp()\n",
    "\n",
    "        surrogate1 = prob_ratio * advantage_estimates\n",
    "        surrogate2 = torch.clamp(prob_ratio, 1.0 - clipping, 1.0 + clipping) * advantage_estimates\n",
    "        policy_loss = -torch.min(surrogate1, surrogate2).mean()\n",
    "\n",
    "        value_loss = (target_returns - value_estimates).pow(2).mean()\n",
    "\n",
    "        total_loss = 0.5 * value_loss + policy_loss - 0.01 * policy_entropy\n",
    "\n",
    "        optimizer.zero_grad()\n",
    "        total_loss.backward()\n",
    "        optimizer.step()"
   ]
  },
  {
   "cell_type": "markdown",
   "id": "ab4bb03e",
   "metadata": {
    "papermill": {
     "duration": 0.007491,
     "end_time": "2024-08-16T12:56:06.153479",
     "exception": false,
     "start_time": "2024-08-16T12:56:06.145988",
     "status": "completed"
    },
    "tags": []
   },
   "source": [
    "# თითო ეპიზოდის გაშვება\n",
    "\n",
    "თითო იტერაციაზე ვითვლით აგენტისგან დაბრუნებულ საშუალოს და სტანდარტულ გადახრას. ამით ვაგებთ ნორმალურ დისტრიბუციას, რანდომულად ვიღებთ sample-ს, ლოგარითმულ ალბათობას ვითვლით და შემდეგ ვკლიპავთ (ppo-ს მიხედვით). ამით უკვე გამოვთვალეთ გადაწყვეტილება და ამ გადაწყვეტილებას უკვე ვიღებთ გარემოში. ამ ყველაფერს ვინახავთ. და ეპიზოდის ბოლოს ვაბრუნებთ ყოველ იტერაციაზე ამ დათვლილ ცვლადებს"
   ]
  },
  {
   "cell_type": "code",
   "execution_count": 7,
   "id": "9b4ae0ae",
   "metadata": {
    "execution": {
     "iopub.execute_input": "2024-08-16T12:56:06.168992Z",
     "iopub.status.busy": "2024-08-16T12:56:06.168716Z",
     "iopub.status.idle": "2024-08-16T12:56:06.177208Z",
     "shell.execute_reply": "2024-08-16T12:56:06.176496Z"
    },
    "papermill": {
     "duration": 0.018306,
     "end_time": "2024-08-16T12:56:06.179044",
     "exception": false,
     "start_time": "2024-08-16T12:56:06.160738",
     "status": "completed"
    },
    "tags": []
   },
   "outputs": [],
   "source": [
    "def run_env(agent, environment):\n",
    "    initial_state, _ = environment.reset()\n",
    "    trajectory = {\n",
    "        \"states\": [],\n",
    "        \"actions\": [],\n",
    "        \"rewards\": [],\n",
    "        \"dones\": [],\n",
    "        \"values\": [],\n",
    "        \"log_probs\": []\n",
    "    }\n",
    "\n",
    "    current_state = initial_state\n",
    "    for iteration in range(STEPS):\n",
    "        current_tensor = torch.tensor(current_state, dtype=torch.float32).unsqueeze(0).to(device)\n",
    "        mean_action, std_action, state_value = agent(current_tensor)\n",
    "        probability_distribution = torch.distributions.Normal(mean_action, std_action)\n",
    "        sampled_action = probability_distribution.sample()\n",
    "        log_probability = probability_distribution.log_prob(sampled_action).sum(dim=-1)\n",
    "        clipped_action = sampled_action[0].clamp(-2, 2).cpu().numpy()\n",
    "        next_state, reward, done, _, _ = environment.step(clipped_action)\n",
    "\n",
    "        trajectory[\"current_state\"] = next_state\n",
    "        trajectory[\"states\"].append(current_tensor)\n",
    "        trajectory[\"actions\"].append(sampled_action)\n",
    "        trajectory[\"rewards\"].append(reward)\n",
    "        trajectory[\"dones\"].append(1 - done)\n",
    "        trajectory[\"values\"].append(state_value)\n",
    "        trajectory[\"log_probs\"].append(log_probability)\n",
    "        \n",
    "        if done:\n",
    "            break\n",
    "        \n",
    "        current_state = next_state\n",
    "\n",
    "    return trajectory\n"
   ]
  },
  {
   "cell_type": "markdown",
   "id": "972375c1",
   "metadata": {
    "papermill": {
     "duration": 0.007051,
     "end_time": "2024-08-16T12:56:06.193244",
     "exception": false,
     "start_time": "2024-08-16T12:56:06.186193",
     "status": "completed"
    },
    "tags": []
   },
   "source": [
    "# ტრენინგის ციკლი\n",
    "\n",
    "მაქსიმუმ ეპიზოდების რაოდენობით გადავუყვებით და ვატრენინგებთ მოდელს. ყოველ ჯერზე ვუშვებთ ეპიზოდს, ვითვლით gae-ს და ახალ ტენზორებს. შემდეგ ვუშვებთ ppo-ს ამ გამოთვლითი ტენზორებით და ვლოგავთ საშუალო რევარდს ჰიპერპარამეტრის მიხედვით. საბოლოოდ ვბეჭდავთ რევარდის გრაფიკს, ტრენინგისას როგორ ადიოდა-ჩადიოდა.\n",
    "\n",
    "ასევე, დამატებით, ვიყენებ Early Stopping-ს რომ ტყუილა არ გაგრძელდეს ტრენინგი როცა უკვე ვიცით რომ მოდელი საკმარისად კარგია."
   ]
  },
  {
   "cell_type": "code",
   "execution_count": 8,
   "id": "be02dfcc",
   "metadata": {
    "execution": {
     "iopub.execute_input": "2024-08-16T12:56:06.208899Z",
     "iopub.status.busy": "2024-08-16T12:56:06.208644Z",
     "iopub.status.idle": "2024-08-16T12:56:06.219374Z",
     "shell.execute_reply": "2024-08-16T12:56:06.218565Z"
    },
    "papermill": {
     "duration": 0.020712,
     "end_time": "2024-08-16T12:56:06.221271",
     "exception": false,
     "start_time": "2024-08-16T12:56:06.200559",
     "status": "completed"
    },
    "tags": []
   },
   "outputs": [],
   "source": [
    "def train(agent, environment):\n",
    "    optimizer = torch.optim.Adam(agent.parameters(), lr=LEARNING_RATE)\n",
    "    reward_averages = []\n",
    "    cumulative_reward = 0\n",
    "    patience_counter = 0\n",
    "    \n",
    "    for episode_num in range(EPISODES):\n",
    "        trajectory = run_env(agent, environment)\n",
    "\n",
    "        last_state_tensor = torch.tensor(trajectory[\"current_state\"], dtype=torch.float32).unsqueeze(0).to(device)\n",
    "        _, _, last_value = agent(last_state_tensor)\n",
    "        \n",
    "        ### რამდენიმე სხვა და სხვა ვარიანტი ვცადე gae-ს მაგივრად, მაგრამ gae ყველაზე კარგი აღმოჩნდა\n",
    "        returns = gae(last_value, trajectory[\"rewards\"], trajectory[\"dones\"], trajectory[\"values\"])\n",
    "        # returns = td_lambda(last_value, reward_list, mask_list, value_list)\n",
    "        # returns = n_step_returns(last_value, reward_list, mask_list, value_list)\n",
    "\n",
    "        tensors = {\n",
    "            \"returns\": torch.cat(returns).detach().to(device),\n",
    "            \"log_probs\": torch.cat(trajectory[\"log_probs\"]).detach().to(device),\n",
    "            \"values\": torch.cat(trajectory[\"values\"]).detach().to(device),\n",
    "            \"states\": torch.cat(trajectory[\"states\"]).to(device),\n",
    "            \"actions\": torch.cat(trajectory[\"actions\"]).to(device),\n",
    "        }\n",
    "        tensors[\"advantages\"] = tensors[\"returns\"] - tensors[\"values\"]\n",
    "        cumulative_reward += sum(trajectory[\"rewards\"])\n",
    "\n",
    "        ppo(agent, optimizer, tensors[\"log_probs\"], tensors[\"states\"], tensors[\"actions\"], tensors[\"returns\"], tensors[\"advantages\"])\n",
    "\n",
    "        if episode_num % LOG != 0:\n",
    "            continue\n",
    "            \n",
    "        avg_reward = cumulative_reward / LOG\n",
    "        reward_averages.append(avg_reward)\n",
    "        print(f\"{episode_num}: {avg_reward}\")\n",
    "        cumulative_reward = 0\n",
    "        \n",
    "        if avg_reward >= EARLY_STOP_THRESHOLD:\n",
    "            patience_counter += 1\n",
    "            if patience_counter >= EARLY_STOP_PATIENCE:\n",
    "                print(f\"ნაადრევად გაჩერება: {episode_num}\\nბოლო ეპიზოდის რევარდი: {avg_reward}\")\n",
    "                break\n",
    "\n",
    "    results(reward_averages)"
   ]
  },
  {
   "cell_type": "markdown",
   "id": "b7263578",
   "metadata": {
    "papermill": {
     "duration": 0.006941,
     "end_time": "2024-08-16T12:56:06.235351",
     "exception": false,
     "start_time": "2024-08-16T12:56:06.228410",
     "status": "completed"
    },
    "tags": []
   },
   "source": [
    "# მოდელის ტრენინგის მონიტორინგი\n",
    "\n",
    "მარტივად ვხატავ საშუალო რევარდი რა იყო ყოველ 100 ეპიზოდში ერთხელ. ამით უკეთესად ვაკეთებდი ვიზუალიზაციას ჩემი მოდელი როგორ სწრაფად ან სტაბილურად სწავლობა, ან სადმე თუ იჭედებოდა ტრენინგის დროს."
   ]
  },
  {
   "cell_type": "code",
   "execution_count": 9,
   "id": "4f5a05f6",
   "metadata": {
    "execution": {
     "iopub.execute_input": "2024-08-16T12:56:06.250885Z",
     "iopub.status.busy": "2024-08-16T12:56:06.250593Z",
     "iopub.status.idle": "2024-08-16T12:56:06.256458Z",
     "shell.execute_reply": "2024-08-16T12:56:06.255558Z"
    },
    "papermill": {
     "duration": 0.015925,
     "end_time": "2024-08-16T12:56:06.258383",
     "exception": false,
     "start_time": "2024-08-16T12:56:06.242458",
     "status": "completed"
    },
    "tags": []
   },
   "outputs": [],
   "source": [
    "def results(average_rewards):\n",
    "    plt.figure(figsize=(10, 8))\n",
    "    plt.subplot(2, 1, 1)\n",
    "    plt.plot([LOG * i for i in range(len(average_rewards))], average_rewards, label='საშუალო რევარდი', color='orange')\n",
    "    plt.title('საშუალო რევარდი')\n",
    "    plt.xlabel('ეპიზოდი')\n",
    "    plt.ylabel('საშუალო რევარდი')\n",
    "    plt.grid(True)\n",
    "    plt.tight_layout()\n",
    "    plt.show()"
   ]
  },
  {
   "cell_type": "markdown",
   "id": "0321fa83",
   "metadata": {
    "papermill": {
     "duration": 0.006907,
     "end_time": "2024-08-16T12:56:06.272735",
     "exception": false,
     "start_time": "2024-08-16T12:56:06.265828",
     "status": "completed"
    },
    "tags": []
   },
   "source": [
    "# დატრენინგება"
   ]
  },
  {
   "cell_type": "code",
   "execution_count": 10,
   "id": "c24fd512",
   "metadata": {
    "execution": {
     "iopub.execute_input": "2024-08-16T12:56:06.288303Z",
     "iopub.status.busy": "2024-08-16T12:56:06.287814Z",
     "iopub.status.idle": "2024-08-16T13:05:45.219993Z",
     "shell.execute_reply": "2024-08-16T13:05:45.219228Z"
    },
    "papermill": {
     "duration": 578.942203,
     "end_time": "2024-08-16T13:05:45.222075",
     "exception": false,
     "start_time": "2024-08-16T12:56:06.279872",
     "status": "completed"
    },
    "tags": []
   },
   "outputs": [
    {
     "name": "stdout",
     "output_type": "stream",
     "text": [
      "0: 0.4543197500768848\n",
      "100: 38.009154807063766\n",
      "200: 67.44045514641573\n",
      "300: 89.46584701987025\n",
      "400: 91.79196715400445\n",
      "500: 89.72800415318669\n",
      "600: 90.10935788431216\n",
      "700: 92.88539452631275\n",
      "800: 87.52151914166994\n",
      "900: 88.56356859880225\n",
      "1000: 92.86360296257654\n",
      "1100: 89.21633114933945\n",
      "1200: 83.98024258682673\n",
      "1300: 117.59024404009443\n",
      "1400: 121.90687378980016\n",
      "1500: 114.10370290108649\n",
      "1600: 145.13900203530207\n",
      "1700: 155.10288311539747\n",
      "1800: 158.00995281124793\n",
      "1900: 143.11410225594625\n",
      "2000: 151.05854943584052\n",
      "2100: 163.50477354929708\n",
      "2200: 179.31791802001396\n",
      "2300: 149.50919371493208\n",
      "2400: 206.17977957008807\n",
      "2500: 201.6763439960766\n",
      "2600: 200.5766774397272\n",
      "2700: 205.8588626807407\n",
      "2800: 201.05900253626507\n",
      "2900: 159.84729677054008\n",
      "3000: 179.35576476147529\n",
      "3100: 192.38814718730941\n",
      "3200: 192.0517929338173\n",
      "3300: 220.40236961162762\n",
      "3400: 197.49054830053726\n",
      "3500: 214.65921043767284\n",
      "3600: 161.5703689353161\n",
      "3700: 96.00530134070269\n",
      "3800: 147.12282253729984\n",
      "3900: 210.30136224887872\n",
      "4000: 155.28731656435068\n",
      "4100: 228.69929235610888\n",
      "4200: 221.69226926700188\n",
      "4300: 212.70890817008748\n",
      "4400: 163.6876862499005\n",
      "4500: 179.5429209710345\n",
      "4600: 175.0543847623423\n",
      "4700: 182.91514615593857\n",
      "4800: 182.0042105590969\n",
      "4900: 194.5036015516124\n",
      "5000: 206.31100702435816\n",
      "5100: 185.43794453788968\n",
      "5200: 177.66482353243958\n",
      "5300: 201.17269988513002\n",
      "5400: 167.66484320351617\n",
      "5500: 189.43198523484702\n",
      "5600: 194.11109781818112\n",
      "5700: 201.21573438687028\n",
      "5800: 180.29758478268678\n",
      "5900: 166.99159000311505\n",
      "6000: 196.84101303377406\n",
      "6100: 200.79875318915725\n",
      "6200: 219.30966918437272\n",
      "6300: 220.2563874327604\n",
      "6400: 231.89179424550053\n",
      "6500: 245.37980387374316\n",
      "6600: 243.30434419578825\n",
      "6700: 276.04640509302004\n",
      "6800: 228.32979449974565\n",
      "6900: 248.65831445963025\n",
      "7000: 227.47927985605747\n",
      "7100: 242.39496332351803\n",
      "7200: 252.07744116594043\n",
      "7300: 247.41821562924363\n",
      "7400: 253.6451295080706\n",
      "7500: 307.2273063553542\n",
      "7600: 304.26975373786723\n",
      "7700: 310.7442841945186\n",
      "7800: 281.0346567273476\n",
      "7900: 277.37382900023994\n",
      "8000: 281.21678445794737\n",
      "8100: 286.88835956971377\n",
      "8200: 478.4391612082348\n",
      "8300: 447.311932555163\n",
      "8400: 300.86791471411686\n",
      "8500: 336.6215816389995\n",
      "8600: 305.30601117134734\n",
      "8700: 331.0269668644051\n",
      "8800: 335.79832562952936\n",
      "8900: 414.27726764801866\n",
      "9000: 455.2829010132143\n",
      "9100: 524.1191374793708\n",
      "9200: 367.4951130468933\n",
      "9300: 73.30687929875059\n",
      "9400: 168.58745367708852\n",
      "9500: 247.03783552056512\n",
      "9600: 297.14532350766353\n",
      "9700: 439.5181602242003\n",
      "9800: 410.68680532836936\n",
      "9900: 462.3787116853032\n",
      "10000: 343.75420185004623\n",
      "10100: 270.604828587276\n",
      "10200: 289.7797736930027\n",
      "10300: 280.73597600237616\n",
      "10400: 292.93015588696784\n",
      "10500: 407.3502251323833\n",
      "10600: 362.0069208068899\n",
      "10700: 463.299797328882\n",
      "10800: 460.12090506872846\n",
      "10900: 507.04911828261464\n",
      "11000: 600.8521422607081\n",
      "11100: 608.461425835735\n",
      "11200: 1056.9727452141994\n",
      "11300: 1195.176132303039\n",
      "11400: 1002.7230109504951\n",
      "11500: 994.5815668822376\n",
      "11600: 753.7620396363451\n",
      "11700: 751.3527191889729\n",
      "11800: 1008.0221275429861\n",
      "11900: 1142.662766621919\n",
      "ნაადრევად გაჩერება: 11900\n",
      "ბოლო ეპიზოდის რევარდი: 1142.662766621919\n"
     ]
    },
    {
     "data": {
      "image/png": "[encoded data removed]",
      "text/plain": [
       "<Figure size 1000x800 with 1 Axes>"
      ]
     },
     "metadata": {},
     "output_type": "display_data"
    }
   ],
   "source": [
    "env = gym.make(PROBLEM)\n",
    "input_dim = env.observation_space.shape[0]\n",
    "action_dim = env.action_space.shape[0]\n",
    "\n",
    "# policy = torch.load('model.w').to(device)\n",
    "\n",
    "policy = ActorCriticPolicy(input_dim, action_dim).to(device)\n",
    "train(policy, env)\n",
    "torch.save(policy, 'model.w')"
   ]
  },
  {
   "cell_type": "markdown",
   "id": "23490f61",
   "metadata": {
    "papermill": {
     "duration": 0.016681,
     "end_time": "2024-08-16T13:05:45.256698",
     "exception": false,
     "start_time": "2024-08-16T13:05:45.240017",
     "status": "completed"
    },
    "tags": []
   },
   "source": [
    "# მოდელის ვიზუალიზაცია\n",
    "\n",
    "საბოლოოდ მაქვს ეს ფუნქცია რომელიც ამოაგდებს მუჯოკოს ვიზუალიზაციას და გვანახებს რამდენად კარგია მოდელი. kaggle-ზე ვერ ავამუშავე თვითონ ვიზუალიზაციის პროგრამა opengl-ის გამო (თუ რაღაც მსგავსი ერორის), ამიტომ ეს ნოუთბუქი ინახავს 'model.w' ფაილს  რომლის შემდეგ ჩატვირთვა შეიძლება torch.load()-ით. ზედა cell-ში არის დაკომენტარებული. მე პირადად კაგლიდან ვიწერდი ამ მოდელს და ლოკალურად ვუშვებდი შემდეგ კაგლზე დატრენინგებულ მოდელს რომ ვიზუალიზაცია გამეკეთებინა."
   ]
  },
  {
   "cell_type": "code",
   "execution_count": 11,
   "id": "b72ecf04",
   "metadata": {
    "execution": {
     "iopub.execute_input": "2024-08-16T13:05:45.291994Z",
     "iopub.status.busy": "2024-08-16T13:05:45.291560Z"
    },
    "papermill": {
     "duration": 1.018839,
     "end_time": "2024-08-16T13:05:46.292493",
     "exception": false,
     "start_time": "2024-08-16T13:05:45.273654",
     "status": "completed"
    },
    "tags": []
   },
   "outputs": [],
   "source": [
    "policy.eval()\n",
    "counter = 0\n",
    "environment = gym.make(PROBLEM, render_mode='human')\n",
    "observation, _ = environment.reset()\n",
    "\n",
    "while True:\n",
    "    counter += 1\n",
    "    \n",
    "    observation_tensor = torch.tensor(observation, dtype=torch.float32).unsqueeze(0).to(device)\n",
    "    mean_action, std_action, _ = policy(observation_tensor)\n",
    "    distribution = torch.distributions.Normal(mean_action, std_action)\n",
    "    selected_action = distribution.sample()\n",
    "    clipped_action = selected_action[0].clamp(-2, 2).cpu().numpy()\n",
    "    \n",
    "    observation, _, terminated, _, _ = environment.step(clipped_action)\n",
    "\n",
    "    if terminated or counter > STEPS:\n",
    "        counter = 0\n",
    "        observation, _ = environment.reset()\n"
   ]
  },
  {
   "cell_type": "markdown",
   "id": "0d886f5d",
   "metadata": {
    "papermill": {
     "duration": null,
     "end_time": null,
     "exception": null,
     "start_time": null,
     "status": "completed"
    },
    "tags": []
   },
   "source": [
    "# შეჯამება\n",
    "\n",
    "საბოლოო ჯამში, ძალიან ბევრი ვეწვალე ამ დავალებას : D, არ მეგონა რომ ასეთი რთული იქნებოდა. \n",
    "\n",
    "წესით და რიგით, გამომივიდა ისეთი მოდელი რომელიც არც ისე ცუდად მუშაობს, performance ნორმალური აქვს, ტრენინგს ცოტა დიდხანს უნდება მაგრამ მე რასაც ვუყურე, კონსისტენტურად შეუძლია 1000-ზე მეტი რევარდის შოვნა თუ დრო აქვს საკმარისი. ხშირად მომივიდა რომ ისეთი პარამეტრებით დავატრენინგე რომლითაც სადღაც ლოკალურად იჭედებოდა და ვეღარ გამოდიოდა 0-100 რევარდის რეინჯიდან, ამიტომ ამ ვერსიას ვთვლი წარმატებულ მოდელის ვერსიად.\n",
    "\n",
    "ის შევამჩნიე რომ ძააალიან პატარა ჰიპერპარამეტრების ცვლილებით ძალიან იცვლებოდა პერფორმანსი და ტრენინგი მოდელის, მივხვდი რომ უმეტესწილად შეიძლება მოდელის არქიტექტურა არც იყოს პრობლემა და უბრალოდ ბევრი trial and error უნდა განვიცადო ჰიპერპარამეტრების ტიუნინგისას."
   ]
  }
 ],
 "metadata": {
  "kaggle": {
   "accelerator": "none",
   "dataSources": [],
   "dockerImageVersionId": 30746,
   "isGpuEnabled": false,
   "isInternetEnabled": true,
   "language": "python",
   "sourceType": "notebook"
  },
  "kernelspec": {
   "display_name": "Python 3",
   "language": "python",
   "name": "python3"
  },
  "language_info": {
   "codemirror_mode": {
    "name": "ipython",
    "version": 3
   },
   "file_extension": ".py",
   "mimetype": "text/x-python",
   "name": "python",
   "nbconvert_exporter": "python",
   "pygments_lexer": "ipython3",
   "version": "3.10.13"
  },
  "papermill": {
   "default_parameters": {},
   "duration": 604.473863,
   "end_time": "2024-08-16T13:05:46.313172",
   "environment_variables": {},
   "exception": null,
   "input_path": "__notebook__.ipynb",
   "output_path": "__notebook__.ipynb",
   "parameters": {},
   "start_time": "2024-08-16T12:55:41.839309",
   "version": "2.5.0"
  }
 },
 "nbformat": 4,
 "nbformat_minor": 5
}
